{
 "cells": [
  {
   "cell_type": "markdown",
   "id": "2f3cf39b-f14c-4727-be66-736485fbbe59",
   "metadata": {},
   "source": [
    "## A Credit Scoring Use Case for Loan Approval: Using Distributed Training with Ray and XGBoost and Feast\n",
    "![](images/feast_ray_xgboost.png)"
   ]
  },
  {
   "cell_type": "code",
   "execution_count": 1,
   "id": "d6369a05-35f7-4712-9568-d16536b832ec",
   "metadata": {},
   "outputs": [],
   "source": [
    "import sys\n",
    "sys.path.insert(0, \"../\")"
   ]
  },
  {
   "cell_type": "markdown",
   "id": "82b6b301-b734-42dd-9a45-e9162d84c5bb",
   "metadata": {},
   "source": [
    "### Import General Python libs and modules"
   ]
  },
  {
   "cell_type": "code",
   "execution_count": 2,
   "id": "71368eb6-519a-47dc-a471-21ae750b3bc2",
   "metadata": {},
   "outputs": [],
   "source": [
    "import pandas as pd\n",
    "import numpy as np\n",
    "from pathlib import Path\n",
    "\n",
    "from sklearn.model_selection import train_test_split\n",
    "from sklearn.metrics import accuracy_score\n",
    "from sklearn.preprocessing import OrdinalEncoder\n",
    "from sklearn.metrics import precision_score\n",
    "\n",
    "from xgboost_ray import RayXGBClassifier, RayParams\n",
    "import xgboost as xgb"
   ]
  },
  {
   "cell_type": "markdown",
   "id": "53f63be4-26c9-4e3d-9672-be6420454379",
   "metadata": {},
   "source": [
    "### Import Feast related modules and definitions from feast_repo directories and Ray modules"
   ]
  },
  {
   "cell_type": "code",
   "execution_count": 3,
   "id": "57dd1afe-4917-480d-a068-86d83130d5f9",
   "metadata": {},
   "outputs": [],
   "source": [
    "from feast import FeatureStore\n",
    "from utils.data_fetcher import DataFetcher\n",
    "from queries.ray_train_model import CreditRayXGBClassifier"
   ]
  },
  {
   "cell_type": "markdown",
   "id": "f51f10c5-e617-44b3-91ce-105f4f28e4ad",
   "metadata": {},
   "source": [
    "### Create instances of \n",
    " * feature store\n",
    " * data fetcher utility class\n",
    " * RayXGBoost classifier for distributed training"
   ]
  },
  {
   "cell_type": "code",
   "execution_count": 4,
   "id": "69cf2b84-00cd-4a36-840a-c6df66072fde",
   "metadata": {},
   "outputs": [],
   "source": [
    "# [IMPORTANT] Change this  path to yours git repo\n",
    "REPO_PATH = Path(\"/Users/jsd/git-repos/feast_workshops/module_3/feature_repo\")\n",
    "store = FeatureStore(repo_path=REPO_PATH)\n",
    "fetcher = DataFetcher(store, REPO_PATH)\n",
    "xgboost_cls = CreditRayXGBClassifier(store, fetcher)"
   ]
  },
  {
   "cell_type": "markdown",
   "id": "59f6cc60-fcf8-4202-95e7-1c54cddd0daf",
   "metadata": {},
   "source": [
    "### Train the RayXGBoost classifier for distributed training on localhost using a four cores or processes\n",
    "![](images/xgboost_multi_core.png)"
   ]
  },
  {
   "cell_type": "code",
   "execution_count": 5,
   "id": "c7785fe4-6c4c-4397-b660-08178d0d6adb",
   "metadata": {},
   "outputs": [
    {
     "name": "stderr",
     "output_type": "stream",
     "text": [
      "/Users/jules/miniconda3/lib/python3.9/site-packages/xgboost_ray/sklearn.py:751: UserWarning: The use of label encoder in XGBClassifier is deprecated and will be removed in a future release. To remove this warning, do the following: 1) Pass option use_label_encoder=False when constructing XGBClassifier object; and 2) Encode your labels (y) as integers starting with 0, i.e. 0, 1, 2, ..., [num_class - 1].\n",
      "  warnings.warn(label_encoder_deprecation_msg, UserWarning)\n",
      "2021-09-17 11:37:49,679\tINFO services.py:1263 -- View the Ray dashboard at \u001b[1m\u001b[32mhttp://127.0.0.1:8265\u001b[39m\u001b[22m\n",
      "2021-09-17 11:37:52,046\tINFO main.py:913 -- [RayXGBoost] Created 4 new actors (4 total actors). Waiting until actors are ready for training.\n",
      "2021-09-17 11:37:53,204\tINFO main.py:958 -- [RayXGBoost] Starting XGBoost training.\n",
      "09/17/2021 11:37:53 AM INFO:start listen on 10.0.0.233:9091\n",
      "09/17/2021 11:37:53 AM INFO:@tracker All of 4 nodes getting started\n",
      "\u001b[2m\u001b[36m(pid=9833)\u001b[0m [11:37:53] task [xgboost.ray]:140226577786192 got new rank 2\n",
      "\u001b[2m\u001b[36m(pid=9834)\u001b[0m [11:37:53] task [xgboost.ray]:140343045163088 got new rank 0\n",
      "\u001b[2m\u001b[36m(pid=9835)\u001b[0m [11:37:53] task [xgboost.ray]:140204195538352 got new rank 1\n",
      "\u001b[2m\u001b[36m(pid=9828)\u001b[0m [11:37:53] task [xgboost.ray]:140560922477904 got new rank 3\n",
      "\u001b[2m\u001b[36m(pid=9833)\u001b[0m [11:37:53] WARNING: /Users/travis/build/dmlc/xgboost/src/learner.cc:1095: Starting in XGBoost 1.3.0, the default evaluation metric used with the objective 'binary:logistic' was changed from 'error' to 'logloss'. Explicitly set eval_metric if you'd like to restore the old behavior.\n",
      "\u001b[2m\u001b[36m(pid=9834)\u001b[0m [11:37:53] WARNING: /Users/travis/build/dmlc/xgboost/src/learner.cc:1095: Starting in XGBoost 1.3.0, the default evaluation metric used with the objective 'binary:logistic' was changed from 'error' to 'logloss'. Explicitly set eval_metric if you'd like to restore the old behavior.\n",
      "\u001b[2m\u001b[36m(pid=9835)\u001b[0m [11:37:53] WARNING: /Users/travis/build/dmlc/xgboost/src/learner.cc:1095: Starting in XGBoost 1.3.0, the default evaluation metric used with the objective 'binary:logistic' was changed from 'error' to 'logloss'. Explicitly set eval_metric if you'd like to restore the old behavior.\n",
      "\u001b[2m\u001b[36m(pid=9828)\u001b[0m [11:37:53] WARNING: /Users/travis/build/dmlc/xgboost/src/learner.cc:1095: Starting in XGBoost 1.3.0, the default evaluation metric used with the objective 'binary:logistic' was changed from 'error' to 'logloss'. Explicitly set eval_metric if you'd like to restore the old behavior.\n",
      "09/17/2021 11:37:55 AM INFO:@tracker All nodes finishes job\n",
      "09/17/2021 11:37:55 AM INFO:@tracker 2.298259973526001 secs between node start and job finish\n",
      "2021-09-17 11:37:55,722\tINFO main.py:1436 -- [RayXGBoost] Finished XGBoost training on training data with total N=21,478 in 3.78 seconds (2.51 pure XGBoost training time).\n",
      "2021-09-17 11:37:55,749\tINFO main.py:1476 -- [RayXGBoost] Created 4 remote actors.\n",
      "2021-09-17 11:37:56,757\tINFO main.py:1493 -- [RayXGBoost] Starting XGBoost prediction.\n"
     ]
    },
    {
     "name": "stdout",
     "output_type": "stream",
     "text": [
      " predictions: [0 0 0 ... 0 0 0]\n"
     ]
    },
    {
     "name": "stderr",
     "output_type": "stream",
     "text": [
      "2021-09-17 11:37:57,586\tINFO main.py:913 -- [RayXGBoost] Created 4 new actors (4 total actors). Waiting until actors are ready for training.\n",
      "2021-09-17 11:37:59,029\tINFO main.py:958 -- [RayXGBoost] Starting XGBoost training.\n",
      "09/17/2021 11:37:59 AM INFO:start listen on 10.0.0.233:9091\n",
      "09/17/2021 11:37:59 AM INFO:@tracker All of 4 nodes getting started\n",
      "\u001b[2m\u001b[36m(pid=9839)\u001b[0m [11:37:59] task [xgboost.ray]:140552944973328 got new rank 0\n",
      "\u001b[2m\u001b[36m(pid=9840)\u001b[0m [11:37:59] task [xgboost.ray]:140287546189376 got new rank 1\n",
      "\u001b[2m\u001b[36m(pid=9842)\u001b[0m [11:37:59] task [xgboost.ray]:140559395751488 got new rank 3\n",
      "\u001b[2m\u001b[36m(pid=9841)\u001b[0m [11:37:59] task [xgboost.ray]:140300700505664 got new rank 2\n",
      "\u001b[2m\u001b[36m(pid=9839)\u001b[0m [11:37:59] WARNING: /Users/travis/build/dmlc/xgboost/src/learner.cc:1095: Starting in XGBoost 1.3.0, the default evaluation metric used with the objective 'binary:logistic' was changed from 'error' to 'logloss'. Explicitly set eval_metric if you'd like to restore the old behavior.\n",
      "\u001b[2m\u001b[36m(pid=9840)\u001b[0m [11:37:59] WARNING: /Users/travis/build/dmlc/xgboost/src/learner.cc:1095: Starting in XGBoost 1.3.0, the default evaluation metric used with the objective 'binary:logistic' was changed from 'error' to 'logloss'. Explicitly set eval_metric if you'd like to restore the old behavior.\n",
      "\u001b[2m\u001b[36m(pid=9842)\u001b[0m [11:37:59] WARNING: /Users/travis/build/dmlc/xgboost/src/learner.cc:1095: Starting in XGBoost 1.3.0, the default evaluation metric used with the objective 'binary:logistic' was changed from 'error' to 'logloss'. Explicitly set eval_metric if you'd like to restore the old behavior.\n",
      "\u001b[2m\u001b[36m(pid=9841)\u001b[0m [11:37:59] WARNING: /Users/travis/build/dmlc/xgboost/src/learner.cc:1095: Starting in XGBoost 1.3.0, the default evaluation metric used with the objective 'binary:logistic' was changed from 'error' to 'logloss'. Explicitly set eval_metric if you'd like to restore the old behavior.\n",
      "09/17/2021 11:38:01 AM INFO:@tracker All nodes finishes job\n",
      "09/17/2021 11:38:01 AM INFO:@tracker 2.219796895980835 secs between node start and job finish\n",
      "2021-09-17 11:38:01,431\tINFO main.py:1436 -- [RayXGBoost] Finished XGBoost training on training data with total N=21,478 in 4.61 seconds (2.40 pure XGBoost training time).\n",
      "2021-09-17 11:38:01,450\tINFO main.py:1476 -- [RayXGBoost] Created 4 remote actors.\n",
      "2021-09-17 11:38:02,987\tINFO main.py:1493 -- [RayXGBoost] Starting XGBoost prediction.\n"
     ]
    },
    {
     "name": "stdout",
     "output_type": "stream",
     "text": [
      " predictions: [0 0 0 ... 0 0 0]\n"
     ]
    },
    {
     "name": "stderr",
     "output_type": "stream",
     "text": [
      "2021-09-17 11:38:03,752\tINFO main.py:913 -- [RayXGBoost] Created 4 new actors (4 total actors). Waiting until actors are ready for training.\n",
      "2021-09-17 11:38:05,199\tINFO main.py:958 -- [RayXGBoost] Starting XGBoost training.\n",
      "09/17/2021 11:38:05 AM INFO:start listen on 10.0.0.233:9091\n",
      "09/17/2021 11:38:05 AM INFO:@tracker All of 4 nodes getting started\n",
      "\u001b[2m\u001b[36m(pid=9850)\u001b[0m [11:38:05] task [xgboost.ray]:140216964380128 got new rank 0\n",
      "\u001b[2m\u001b[36m(pid=9850)\u001b[0m [11:38:05] WARNING: /Users/travis/build/dmlc/xgboost/src/learner.cc:1095: Starting in XGBoost 1.3.0, the default evaluation metric used with the objective 'binary:logistic' was changed from 'error' to 'logloss'. Explicitly set eval_metric if you'd like to restore the old behavior.\n",
      "\u001b[2m\u001b[36m(pid=9851)\u001b[0m [11:38:05] task [xgboost.ray]:140236502558272 got new rank 1\n",
      "\u001b[2m\u001b[36m(pid=9851)\u001b[0m [11:38:05] WARNING: /Users/travis/build/dmlc/xgboost/src/learner.cc:1095: Starting in XGBoost 1.3.0, the default evaluation metric used with the objective 'binary:logistic' was changed from 'error' to 'logloss'. Explicitly set eval_metric if you'd like to restore the old behavior.\n",
      "\u001b[2m\u001b[36m(pid=9853)\u001b[0m [11:38:05] task [xgboost.ray]:140379946653248 got new rank 3\n",
      "\u001b[2m\u001b[36m(pid=9853)\u001b[0m [11:38:05] WARNING: /Users/travis/build/dmlc/xgboost/src/learner.cc:1095: Starting in XGBoost 1.3.0, the default evaluation metric used with the objective 'binary:logistic' was changed from 'error' to 'logloss'. Explicitly set eval_metric if you'd like to restore the old behavior.\n",
      "\u001b[2m\u001b[36m(pid=9852)\u001b[0m [11:38:05] task [xgboost.ray]:140449647593072 got new rank 2\n",
      "\u001b[2m\u001b[36m(pid=9852)\u001b[0m [11:38:05] WARNING: /Users/travis/build/dmlc/xgboost/src/learner.cc:1095: Starting in XGBoost 1.3.0, the default evaluation metric used with the objective 'binary:logistic' was changed from 'error' to 'logloss'. Explicitly set eval_metric if you'd like to restore the old behavior.\n",
      "09/17/2021 11:38:07 AM INFO:@tracker All nodes finishes job\n",
      "09/17/2021 11:38:07 AM INFO:@tracker 2.2986738681793213 secs between node start and job finish\n",
      "2021-09-17 11:38:07,708\tINFO main.py:1436 -- [RayXGBoost] Finished XGBoost training on training data with total N=21,478 in 4.65 seconds (2.50 pure XGBoost training time).\n",
      "2021-09-17 11:38:07,727\tINFO main.py:1476 -- [RayXGBoost] Created 4 remote actors.\n",
      "2021-09-17 11:38:09,333\tINFO main.py:1493 -- [RayXGBoost] Starting XGBoost prediction.\n"
     ]
    },
    {
     "name": "stdout",
     "output_type": "stream",
     "text": [
      " predictions: [0 0 0 ... 0 0 0]\n"
     ]
    },
    {
     "name": "stderr",
     "output_type": "stream",
     "text": [
      "2021-09-17 11:38:10,117\tINFO main.py:913 -- [RayXGBoost] Created 4 new actors (4 total actors). Waiting until actors are ready for training.\n",
      "2021-09-17 11:38:11,572\tINFO main.py:958 -- [RayXGBoost] Starting XGBoost training.\n",
      "09/17/2021 11:38:11 AM INFO:start listen on 10.0.0.233:9091\n",
      "09/17/2021 11:38:11 AM INFO:@tracker All of 4 nodes getting started\n",
      "\u001b[2m\u001b[36m(pid=9863)\u001b[0m [11:38:11] task [xgboost.ray]:140666880021984 got new rank 0\n",
      "\u001b[2m\u001b[36m(pid=9863)\u001b[0m [11:38:11] WARNING: /Users/travis/build/dmlc/xgboost/src/learner.cc:1095: Starting in XGBoost 1.3.0, the default evaluation metric used with the objective 'binary:logistic' was changed from 'error' to 'logloss'. Explicitly set eval_metric if you'd like to restore the old behavior.\n",
      "\u001b[2m\u001b[36m(pid=9866)\u001b[0m [11:38:11] task [xgboost.ray]:140620498429504 got new rank 3\n",
      "\u001b[2m\u001b[36m(pid=9866)\u001b[0m [11:38:11] WARNING: /Users/travis/build/dmlc/xgboost/src/learner.cc:1095: Starting in XGBoost 1.3.0, the default evaluation metric used with the objective 'binary:logistic' was changed from 'error' to 'logloss'. Explicitly set eval_metric if you'd like to restore the old behavior.\n",
      "\u001b[2m\u001b[36m(pid=9865)\u001b[0m [11:38:11] task [xgboost.ray]:140690569573952 got new rank 2\n",
      "\u001b[2m\u001b[36m(pid=9865)\u001b[0m [11:38:11] WARNING: /Users/travis/build/dmlc/xgboost/src/learner.cc:1095: Starting in XGBoost 1.3.0, the default evaluation metric used with the objective 'binary:logistic' was changed from 'error' to 'logloss'. Explicitly set eval_metric if you'd like to restore the old behavior.\n",
      "\u001b[2m\u001b[36m(pid=9864)\u001b[0m [11:38:11] task [xgboost.ray]:140588706649664 got new rank 1\n",
      "\u001b[2m\u001b[36m(pid=9864)\u001b[0m [11:38:11] WARNING: /Users/travis/build/dmlc/xgboost/src/learner.cc:1095: Starting in XGBoost 1.3.0, the default evaluation metric used with the objective 'binary:logistic' was changed from 'error' to 'logloss'. Explicitly set eval_metric if you'd like to restore the old behavior.\n",
      "09/17/2021 11:38:14 AM INFO:@tracker All nodes finishes job\n",
      "09/17/2021 11:38:14 AM INFO:@tracker 2.588716745376587 secs between node start and job finish\n",
      "2021-09-17 11:38:14,372\tINFO main.py:1436 -- [RayXGBoost] Finished XGBoost training on training data with total N=21,478 in 4.98 seconds (2.79 pure XGBoost training time).\n",
      "2021-09-17 11:38:14,391\tINFO main.py:1476 -- [RayXGBoost] Created 4 remote actors.\n",
      "2021-09-17 11:38:15,964\tINFO main.py:1493 -- [RayXGBoost] Starting XGBoost prediction.\n"
     ]
    },
    {
     "name": "stdout",
     "output_type": "stream",
     "text": [
      " predictions: [0 0 0 ... 0 0 0]\n"
     ]
    },
    {
     "name": "stderr",
     "output_type": "stream",
     "text": [
      "2021-09-17 11:38:16,819\tINFO main.py:913 -- [RayXGBoost] Created 4 new actors (4 total actors). Waiting until actors are ready for training.\n",
      "2021-09-17 11:38:18,273\tINFO main.py:958 -- [RayXGBoost] Starting XGBoost training.\n",
      "09/17/2021 11:38:18 AM INFO:start listen on 10.0.0.233:9091\n",
      "09/17/2021 11:38:18 AM INFO:@tracker All of 4 nodes getting started\n",
      "\u001b[2m\u001b[36m(pid=9875)\u001b[0m [11:38:18] task [xgboost.ray]:140372247012880 got new rank 0\n",
      "\u001b[2m\u001b[36m(pid=9875)\u001b[0m [11:38:18] WARNING: /Users/travis/build/dmlc/xgboost/src/learner.cc:1095: Starting in XGBoost 1.3.0, the default evaluation metric used with the objective 'binary:logistic' was changed from 'error' to 'logloss'. Explicitly set eval_metric if you'd like to restore the old behavior.\n",
      "\u001b[2m\u001b[36m(pid=9878)\u001b[0m [11:38:18] task [xgboost.ray]:140626782545472 got new rank 3\n",
      "\u001b[2m\u001b[36m(pid=9878)\u001b[0m [11:38:18] WARNING: /Users/travis/build/dmlc/xgboost/src/learner.cc:1095: Starting in XGBoost 1.3.0, the default evaluation metric used with the objective 'binary:logistic' was changed from 'error' to 'logloss'. Explicitly set eval_metric if you'd like to restore the old behavior.\n",
      "\u001b[2m\u001b[36m(pid=9877)\u001b[0m [11:38:18] task [xgboost.ray]:140602974631536 got new rank 2\n",
      "\u001b[2m\u001b[36m(pid=9877)\u001b[0m [11:38:18] WARNING: /Users/travis/build/dmlc/xgboost/src/learner.cc:1095: Starting in XGBoost 1.3.0, the default evaluation metric used with the objective 'binary:logistic' was changed from 'error' to 'logloss'. Explicitly set eval_metric if you'd like to restore the old behavior.\n",
      "\u001b[2m\u001b[36m(pid=9876)\u001b[0m [11:38:18] task [xgboost.ray]:140673465149040 got new rank 1\n",
      "\u001b[2m\u001b[36m(pid=9876)\u001b[0m [11:38:18] WARNING: /Users/travis/build/dmlc/xgboost/src/learner.cc:1095: Starting in XGBoost 1.3.0, the default evaluation metric used with the objective 'binary:logistic' was changed from 'error' to 'logloss'. Explicitly set eval_metric if you'd like to restore the old behavior.\n",
      "09/17/2021 11:38:20 AM INFO:@tracker All nodes finishes job\n",
      "09/17/2021 11:38:20 AM INFO:@tracker 2.299307107925415 secs between node start and job finish\n",
      "2021-09-17 11:38:20,772\tINFO main.py:1436 -- [RayXGBoost] Finished XGBoost training on training data with total N=21,478 in 4.74 seconds (2.49 pure XGBoost training time).\n",
      "2021-09-17 11:38:20,792\tINFO main.py:1476 -- [RayXGBoost] Created 4 remote actors.\n",
      "2021-09-17 11:38:22,320\tINFO main.py:1493 -- [RayXGBoost] Starting XGBoost prediction.\n"
     ]
    },
    {
     "name": "stdout",
     "output_type": "stream",
     "text": [
      " predictions: [0 0 0 ... 0 0 0]\n"
     ]
    },
    {
     "name": "stderr",
     "output_type": "stream",
     "text": [
      "2021-09-17 11:38:23,085\tINFO main.py:913 -- [RayXGBoost] Created 4 new actors (4 total actors). Waiting until actors are ready for training.\n",
      "2021-09-17 11:38:24,641\tINFO main.py:958 -- [RayXGBoost] Starting XGBoost training.\n",
      "09/17/2021 11:38:24 AM INFO:start listen on 10.0.0.233:9091\n",
      "09/17/2021 11:38:24 AM INFO:@tracker All of 4 nodes getting started\n",
      "\u001b[2m\u001b[36m(pid=9886)\u001b[0m [11:38:24] task [xgboost.ray]:140712505664944 got new rank 0\n",
      "\u001b[2m\u001b[36m(pid=9887)\u001b[0m [11:38:24] task [xgboost.ray]:140691734427200 got new rank 1\n",
      "\u001b[2m\u001b[36m(pid=9888)\u001b[0m [11:38:24] task [xgboost.ray]:140226737169984 got new rank 2\n",
      "\u001b[2m\u001b[36m(pid=9889)\u001b[0m [11:38:24] task [xgboost.ray]:140255870805568 got new rank 3\n",
      "\u001b[2m\u001b[36m(pid=9886)\u001b[0m [11:38:24] WARNING: /Users/travis/build/dmlc/xgboost/src/learner.cc:1095: Starting in XGBoost 1.3.0, the default evaluation metric used with the objective 'binary:logistic' was changed from 'error' to 'logloss'. Explicitly set eval_metric if you'd like to restore the old behavior.\n",
      "\u001b[2m\u001b[36m(pid=9887)\u001b[0m [11:38:24] WARNING: /Users/travis/build/dmlc/xgboost/src/learner.cc:1095: Starting in XGBoost 1.3.0, the default evaluation metric used with the objective 'binary:logistic' was changed from 'error' to 'logloss'. Explicitly set eval_metric if you'd like to restore the old behavior.\n",
      "\u001b[2m\u001b[36m(pid=9888)\u001b[0m [11:38:24] WARNING: /Users/travis/build/dmlc/xgboost/src/learner.cc:1095: Starting in XGBoost 1.3.0, the default evaluation metric used with the objective 'binary:logistic' was changed from 'error' to 'logloss'. Explicitly set eval_metric if you'd like to restore the old behavior.\n",
      "\u001b[2m\u001b[36m(pid=9889)\u001b[0m [11:38:24] WARNING: /Users/travis/build/dmlc/xgboost/src/learner.cc:1095: Starting in XGBoost 1.3.0, the default evaluation metric used with the objective 'binary:logistic' was changed from 'error' to 'logloss'. Explicitly set eval_metric if you'd like to restore the old behavior.\n",
      "09/17/2021 11:38:26 AM INFO:@tracker All nodes finishes job\n",
      "09/17/2021 11:38:26 AM INFO:@tracker 2.3027760982513428 secs between node start and job finish\n",
      "2021-09-17 11:38:27,144\tINFO main.py:1436 -- [RayXGBoost] Finished XGBoost training on training data with total N=21,478 in 4.76 seconds (2.50 pure XGBoost training time).\n",
      "2021-09-17 11:38:27,164\tINFO main.py:1476 -- [RayXGBoost] Created 4 remote actors.\n",
      "2021-09-17 11:38:28,696\tINFO main.py:1493 -- [RayXGBoost] Starting XGBoost prediction.\n"
     ]
    },
    {
     "name": "stdout",
     "output_type": "stream",
     "text": [
      " predictions: [0 0 0 ... 0 0 0]\n"
     ]
    },
    {
     "name": "stderr",
     "output_type": "stream",
     "text": [
      "2021-09-17 11:38:29,478\tINFO main.py:913 -- [RayXGBoost] Created 4 new actors (4 total actors). Waiting until actors are ready for training.\n",
      "2021-09-17 11:38:30,925\tINFO main.py:958 -- [RayXGBoost] Starting XGBoost training.\n",
      "09/17/2021 11:38:30 AM INFO:start listen on 10.0.0.233:9091\n",
      "09/17/2021 11:38:30 AM INFO:@tracker All of 4 nodes getting started\n",
      "\u001b[2m\u001b[36m(pid=9898)\u001b[0m [11:38:30] task [xgboost.ray]:140592144840160 got new rank 0\n",
      "\u001b[2m\u001b[36m(pid=9898)\u001b[0m [11:38:30] WARNING: /Users/travis/build/dmlc/xgboost/src/learner.cc:1095: Starting in XGBoost 1.3.0, the default evaluation metric used with the objective 'binary:logistic' was changed from 'error' to 'logloss'. Explicitly set eval_metric if you'd like to restore the old behavior.\n",
      "\u001b[2m\u001b[36m(pid=9900)\u001b[0m [11:38:30] task [xgboost.ray]:140669093578304 got new rank 2\n",
      "\u001b[2m\u001b[36m(pid=9900)\u001b[0m [11:38:30] WARNING: /Users/travis/build/dmlc/xgboost/src/learner.cc:1095: Starting in XGBoost 1.3.0, the default evaluation metric used with the objective 'binary:logistic' was changed from 'error' to 'logloss'. Explicitly set eval_metric if you'd like to restore the old behavior.\n",
      "\u001b[2m\u001b[36m(pid=9901)\u001b[0m [11:38:30] task [xgboost.ray]:140488664114752 got new rank 3\n",
      "\u001b[2m\u001b[36m(pid=9901)\u001b[0m [11:38:30] WARNING: /Users/travis/build/dmlc/xgboost/src/learner.cc:1095: Starting in XGBoost 1.3.0, the default evaluation metric used with the objective 'binary:logistic' was changed from 'error' to 'logloss'. Explicitly set eval_metric if you'd like to restore the old behavior.\n",
      "\u001b[2m\u001b[36m(pid=9899)\u001b[0m [11:38:30] task [xgboost.ray]:140387203900992 got new rank 1\n",
      "\u001b[2m\u001b[36m(pid=9899)\u001b[0m [11:38:30] WARNING: /Users/travis/build/dmlc/xgboost/src/learner.cc:1095: Starting in XGBoost 1.3.0, the default evaluation metric used with the objective 'binary:logistic' was changed from 'error' to 'logloss'. Explicitly set eval_metric if you'd like to restore the old behavior.\n",
      "09/17/2021 11:38:33 AM INFO:@tracker All nodes finishes job\n",
      "09/17/2021 11:38:33 AM INFO:@tracker 2.3227720260620117 secs between node start and job finish\n",
      "2021-09-17 11:38:33,437\tINFO main.py:1436 -- [RayXGBoost] Finished XGBoost training on training data with total N=21,478 in 4.68 seconds (2.51 pure XGBoost training time).\n",
      "2021-09-17 11:38:33,457\tINFO main.py:1476 -- [RayXGBoost] Created 4 remote actors.\n",
      "2021-09-17 11:38:35,066\tINFO main.py:1493 -- [RayXGBoost] Starting XGBoost prediction.\n"
     ]
    },
    {
     "name": "stdout",
     "output_type": "stream",
     "text": [
      " predictions: [0 0 0 ... 0 0 0]\n"
     ]
    },
    {
     "name": "stderr",
     "output_type": "stream",
     "text": [
      "2021-09-17 11:38:35,861\tINFO main.py:913 -- [RayXGBoost] Created 4 new actors (4 total actors). Waiting until actors are ready for training.\n",
      "2021-09-17 11:38:37,318\tINFO main.py:958 -- [RayXGBoost] Starting XGBoost training.\n",
      "09/17/2021 11:38:37 AM INFO:start listen on 10.0.0.233:9091\n",
      "09/17/2021 11:38:37 AM INFO:@tracker All of 4 nodes getting started\n",
      "\u001b[2m\u001b[36m(pid=9910)\u001b[0m [11:38:37] task [xgboost.ray]:140604878779824 got new rank 0\n",
      "\u001b[2m\u001b[36m(pid=9910)\u001b[0m [11:38:37] WARNING: /Users/travis/build/dmlc/xgboost/src/learner.cc:1095: Starting in XGBoost 1.3.0, the default evaluation metric used with the objective 'binary:logistic' was changed from 'error' to 'logloss'. Explicitly set eval_metric if you'd like to restore the old behavior.\n",
      "\u001b[2m\u001b[36m(pid=9912)\u001b[0m [11:38:37] task [xgboost.ray]:140338483914304 got new rank 2\n",
      "\u001b[2m\u001b[36m(pid=9912)\u001b[0m [11:38:37] WARNING: /Users/travis/build/dmlc/xgboost/src/learner.cc:1095: Starting in XGBoost 1.3.0, the default evaluation metric used with the objective 'binary:logistic' was changed from 'error' to 'logloss'. Explicitly set eval_metric if you'd like to restore the old behavior.\n",
      "\u001b[2m\u001b[36m(pid=9913)\u001b[0m [11:38:37] task [xgboost.ray]:140519919019584 got new rank 3\n",
      "\u001b[2m\u001b[36m(pid=9913)\u001b[0m [11:38:37] WARNING: /Users/travis/build/dmlc/xgboost/src/learner.cc:1095: Starting in XGBoost 1.3.0, the default evaluation metric used with the objective 'binary:logistic' was changed from 'error' to 'logloss'. Explicitly set eval_metric if you'd like to restore the old behavior.\n",
      "\u001b[2m\u001b[36m(pid=9911)\u001b[0m [11:38:37] task [xgboost.ray]:140396505749056 got new rank 1\n",
      "\u001b[2m\u001b[36m(pid=9911)\u001b[0m [11:38:37] WARNING: /Users/travis/build/dmlc/xgboost/src/learner.cc:1095: Starting in XGBoost 1.3.0, the default evaluation metric used with the objective 'binary:logistic' was changed from 'error' to 'logloss'. Explicitly set eval_metric if you'd like to restore the old behavior.\n",
      "09/17/2021 11:38:39 AM INFO:@tracker All nodes finishes job\n",
      "09/17/2021 11:38:39 AM INFO:@tracker 2.2580459117889404 secs between node start and job finish\n",
      "2021-09-17 11:38:39,740\tINFO main.py:1436 -- [RayXGBoost] Finished XGBoost training on training data with total N=21,478 in 4.61 seconds (2.41 pure XGBoost training time).\n",
      "2021-09-17 11:38:39,759\tINFO main.py:1476 -- [RayXGBoost] Created 4 remote actors.\n",
      "2021-09-17 11:38:41,278\tINFO main.py:1493 -- [RayXGBoost] Starting XGBoost prediction.\n"
     ]
    },
    {
     "name": "stdout",
     "output_type": "stream",
     "text": [
      " predictions: [0 0 0 ... 0 0 0]\n",
      "6.36 s ± 127 ms per loop (mean ± std. dev. of 7 runs, 1 loop each)\n"
     ]
    }
   ],
   "source": [
    "%timeit xgboost_cls.train()"
   ]
  },
  {
   "cell_type": "markdown",
   "id": "080ce609-2def-4b27-be36-7cde30da2522",
   "metadata": {},
   "source": [
    "### Define loan requests"
   ]
  },
  {
   "cell_type": "code",
   "execution_count": 6,
   "id": "92e75800-8e23-43cc-bb69-8497591aed3b",
   "metadata": {},
   "outputs": [],
   "source": [
    "loan_requests = [\n",
    "    {\n",
    "        \"zipcode\": [76104],\n",
    "        \"person_age\": [22],\n",
    "        \"person_income\": [59000],\n",
    "        \"person_home_ownership\": [\"RENT\"],\n",
    "        \"person_emp_length\": [123.0],\n",
    "        \"loan_intent\": [\"PERSONAL\"],\n",
    "        \"loan_amnt\": [35000],\n",
    "        \"loan_int_rate\": [16.02],\n",
    "        \"dob_ssn\": [\"19530219_5179\"]\n",
    "    },\n",
    "    {\n",
    "        \"zipcode\": [69033],\n",
    "        \"person_age\": [66],\n",
    "        \"person_income\": [42000],\n",
    "        \"person_home_ownership\": [\"RENT\"],\n",
    "        \"person_emp_length\": [2.0],\n",
    "        \"loan_intent\": [\"MEDICAL\"],\n",
    "        \"loan_amnt\": [6475],\n",
    "        \"loan_int_rate\": [9.99],\n",
    "        \"dob_ssn\": [\"19960703_3449\"]\n",
    "    }\n",
    "]"
   ]
  },
  {
   "cell_type": "markdown",
   "id": "a09c022d-1366-400b-8bb6-0af806bb2d9a",
   "metadata": {},
   "source": [
    "### Predict the loan requests"
   ]
  },
  {
   "cell_type": "code",
   "execution_count": 7,
   "id": "be4e0d69-6aa1-4714-97bf-162107cc5051",
   "metadata": {},
   "outputs": [
    {
     "name": "stderr",
     "output_type": "stream",
     "text": [
      "/Users/jules/miniconda3/lib/python3.9/site-packages/xgboost_ray/sklearn.py:294: UserWarning: `ray_params` is not `None` and will override the `n_jobs` attribute.\n",
      "  warnings.warn(\"`ray_params` is not `None` and will override \"\n",
      "/Users/jules/miniconda3/lib/python3.9/site-packages/xgboost_ray/main.py:364: UserWarning: `num_actors` in `ray_params` is smaller than 2 (1). XGBoost will NOT be distributed!\n",
      "  warnings.warn(\n",
      "2021-09-17 11:38:48,813\tINFO main.py:1476 -- [RayXGBoost] Created 1 remote actors.\n",
      "2021-09-17 11:38:50,197\tINFO main.py:1493 -- [RayXGBoost] Starting XGBoost prediction.\n"
     ]
    },
    {
     "name": "stdout",
     "output_type": "stream",
     "text": [
      "Loan for 76104 code approved: status_code=1\n"
     ]
    },
    {
     "name": "stderr",
     "output_type": "stream",
     "text": [
      "/Users/jules/miniconda3/lib/python3.9/site-packages/xgboost_ray/sklearn.py:294: UserWarning: `ray_params` is not `None` and will override the `n_jobs` attribute.\n",
      "  warnings.warn(\"`ray_params` is not `None` and will override \"\n",
      "/Users/jules/miniconda3/lib/python3.9/site-packages/xgboost_ray/main.py:364: UserWarning: `num_actors` in `ray_params` is smaller than 2 (1). XGBoost will NOT be distributed!\n",
      "  warnings.warn(\n",
      "2021-09-17 11:38:50,525\tINFO main.py:1476 -- [RayXGBoost] Created 1 remote actors.\n",
      "2021-09-17 11:38:51,843\tINFO main.py:1493 -- [RayXGBoost] Starting XGBoost prediction.\n"
     ]
    },
    {
     "name": "stdout",
     "output_type": "stream",
     "text": [
      "Loan for 69033 code rejected: status_code=0\n"
     ]
    }
   ],
   "source": [
    "for loan_request in loan_requests:\n",
    "    result = round(xgboost_cls.predict(loan_request))\n",
    "    loan_status = \"approved\" if result == 1 else \"rejected\"\n",
    "    print(f\"Loan for {loan_request['zipcode'][0]} code {loan_status}: status_code={result}\")"
   ]
  }
 ],
 "metadata": {
  "kernelspec": {
   "display_name": "Python 3 (ipykernel)",
   "language": "python",
   "name": "python3"
  },
  "language_info": {
   "codemirror_mode": {
    "name": "ipython",
    "version": 3
   },
   "file_extension": ".py",
   "mimetype": "text/x-python",
   "name": "python",
   "nbconvert_exporter": "python",
   "pygments_lexer": "ipython3",
   "version": "3.9.5"
  }
 },
 "nbformat": 4,
 "nbformat_minor": 5
}
